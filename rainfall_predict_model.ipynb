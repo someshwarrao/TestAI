import pandas as pd
from sklearn.model_selection import train_test_split
from sklearn.ensemble import RandomForestClassifier
from sklearn.metrics import accuracy_score
from sklearn.preprocessing import StandardScaler

# Load dataset
url = "https://raw.githubusercontent.com/datasets/weather-data/master/data/weatherAUS.csv"
data = pd.read_csv(url)

# Select relevant features and target
features = ['MinTemp', 'MaxTemp', 'Humidity9am', 'Humidity3pm', 'WindSpeed9am', 'WindSpeed3pm']
target = 'RainTomorrow'

# Drop rows with missing values
data_clean = data[features + [target]].dropna()

# Convert target to binary (0/1)
data_clean['RainTomorrow'] = data_clean['RainTomorrow'].map({'No': 0, 'Yes': 1})

# Split data
X = data_clean[features]
y = data_clean[target]
X_train, X_test, y_train, y_test = train_test_split(X, y, test_size=0.2, random_state=42)

# Train model
model = RandomForestClassifier(random_state=42)
model.fit(X_train, y_train)

# Evaluate
y_pred = model.predict(X_test)
print(f"Accuracy: {accuracy_score(y_test, y_pred):.2f}")

data.fillna(method='ffill', inplace=True)  # Forward-fill missing values

# Create average daily humidity and wind speed
data['AvgHumidity'] = (data['Humidity9am'] + data['Humidity3pm']) / 2
data['AvgWindSpeed'] = (data['WindSpeed9am'] + data['WindSpeed3pm']) / 2

scaler = StandardScaler()
X_train_scaled = scaler.fit_transform(X_train)
X_test_scaled = scaler.transform(X_test)